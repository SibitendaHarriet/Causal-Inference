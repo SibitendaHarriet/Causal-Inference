{
 "cells": [
  {
   "cell_type": "code",
   "execution_count": 1,
   "metadata": {},
   "outputs": [],
   "source": [
    "import pandas as pd\n",
    "from sklearn.linear_model import LogisticRegression\n",
    "from sklearn.model_selection import train_test_split"
   ]
  },
  {
   "cell_type": "code",
   "execution_count": 5,
   "metadata": {},
   "outputs": [
    {
     "data": {
      "text/html": [
       "<div>\n",
       "<style scoped>\n",
       "    .dataframe tbody tr th:only-of-type {\n",
       "        vertical-align: middle;\n",
       "    }\n",
       "\n",
       "    .dataframe tbody tr th {\n",
       "        vertical-align: top;\n",
       "    }\n",
       "\n",
       "    .dataframe thead th {\n",
       "        text-align: right;\n",
       "    }\n",
       "</style>\n",
       "<table border=\"1\" class=\"dataframe\">\n",
       "  <thead>\n",
       "    <tr style=\"text-align: right;\">\n",
       "      <th></th>\n",
       "      <th>diagnosis</th>\n",
       "      <th>radius_worst</th>\n",
       "      <th>perimeter_worst</th>\n",
       "      <th>area_worst</th>\n",
       "      <th>concave_points_mean</th>\n",
       "      <th>concave_points_worst</th>\n",
       "    </tr>\n",
       "  </thead>\n",
       "  <tbody>\n",
       "    <tr>\n",
       "      <th>0</th>\n",
       "      <td>M</td>\n",
       "      <td>25.38</td>\n",
       "      <td>184.60</td>\n",
       "      <td>2019.0</td>\n",
       "      <td>0.7119</td>\n",
       "      <td>0.2654</td>\n",
       "    </tr>\n",
       "    <tr>\n",
       "      <th>1</th>\n",
       "      <td>M</td>\n",
       "      <td>24.99</td>\n",
       "      <td>158.80</td>\n",
       "      <td>1956.0</td>\n",
       "      <td>0.2416</td>\n",
       "      <td>0.1860</td>\n",
       "    </tr>\n",
       "    <tr>\n",
       "      <th>2</th>\n",
       "      <td>M</td>\n",
       "      <td>23.57</td>\n",
       "      <td>152.50</td>\n",
       "      <td>1709.0</td>\n",
       "      <td>0.4504</td>\n",
       "      <td>0.2430</td>\n",
       "    </tr>\n",
       "    <tr>\n",
       "      <th>3</th>\n",
       "      <td>M</td>\n",
       "      <td>14.91</td>\n",
       "      <td>98.87</td>\n",
       "      <td>567.7</td>\n",
       "      <td>0.6869</td>\n",
       "      <td>0.2575</td>\n",
       "    </tr>\n",
       "    <tr>\n",
       "      <th>4</th>\n",
       "      <td>M</td>\n",
       "      <td>22.54</td>\n",
       "      <td>152.20</td>\n",
       "      <td>1575.0</td>\n",
       "      <td>0.4000</td>\n",
       "      <td>0.1625</td>\n",
       "    </tr>\n",
       "  </tbody>\n",
       "</table>\n",
       "</div>"
      ],
      "text/plain": [
       "  diagnosis  radius_worst  perimeter_worst  area_worst  concave_points_mean  \\\n",
       "0         M         25.38           184.60      2019.0               0.7119   \n",
       "1         M         24.99           158.80      1956.0               0.2416   \n",
       "2         M         23.57           152.50      1709.0               0.4504   \n",
       "3         M         14.91            98.87       567.7               0.6869   \n",
       "4         M         22.54           152.20      1575.0               0.4000   \n",
       "\n",
       "   concave_points_worst  \n",
       "0                0.2654  \n",
       "1                0.1860  \n",
       "2                0.2430  \n",
       "3                0.2575  \n",
       "4                0.1625  "
      ]
     },
     "execution_count": 5,
     "metadata": {},
     "output_type": "execute_result"
    }
   ],
   "source": [
    "#import useful functions from sripts folder\n",
    "import sys\n",
    "sys.path.append(\"../scripts/\")\n",
    "from features import feature_scaling\n",
    "data = pd.read_csv(\"../data/features2.csv\")\n",
    "data.head()"
   ]
  },
  {
   "cell_type": "code",
   "execution_count": 7,
   "metadata": {},
   "outputs": [
    {
     "data": {
      "text/html": [
       "<div>\n",
       "<style scoped>\n",
       "    .dataframe tbody tr th:only-of-type {\n",
       "        vertical-align: middle;\n",
       "    }\n",
       "\n",
       "    .dataframe tbody tr th {\n",
       "        vertical-align: top;\n",
       "    }\n",
       "\n",
       "    .dataframe thead th {\n",
       "        text-align: right;\n",
       "    }\n",
       "</style>\n",
       "<table border=\"1\" class=\"dataframe\">\n",
       "  <thead>\n",
       "    <tr style=\"text-align: right;\">\n",
       "      <th></th>\n",
       "      <th>diagnosis</th>\n",
       "      <th>radius_worst</th>\n",
       "      <th>perimeter_worst</th>\n",
       "      <th>area_worst</th>\n",
       "      <th>concave_points_mean</th>\n",
       "      <th>concave_points_worst</th>\n",
       "    </tr>\n",
       "  </thead>\n",
       "  <tbody>\n",
       "    <tr>\n",
       "      <th>0</th>\n",
       "      <td>1</td>\n",
       "      <td>1.886690</td>\n",
       "      <td>2.303601</td>\n",
       "      <td>2.001237</td>\n",
       "      <td>2.109526</td>\n",
       "      <td>2.296076</td>\n",
       "    </tr>\n",
       "    <tr>\n",
       "      <th>1</th>\n",
       "      <td>1</td>\n",
       "      <td>1.805927</td>\n",
       "      <td>1.535126</td>\n",
       "      <td>1.890489</td>\n",
       "      <td>-0.146749</td>\n",
       "      <td>1.087084</td>\n",
       "    </tr>\n",
       "    <tr>\n",
       "      <th>2</th>\n",
       "      <td>1</td>\n",
       "      <td>1.511870</td>\n",
       "      <td>1.347475</td>\n",
       "      <td>1.456285</td>\n",
       "      <td>0.854974</td>\n",
       "      <td>1.955000</td>\n",
       "    </tr>\n",
       "    <tr>\n",
       "      <th>3</th>\n",
       "      <td>1</td>\n",
       "      <td>-0.281464</td>\n",
       "      <td>-0.249939</td>\n",
       "      <td>-0.550021</td>\n",
       "      <td>1.989588</td>\n",
       "      <td>2.175786</td>\n",
       "    </tr>\n",
       "    <tr>\n",
       "      <th>4</th>\n",
       "      <td>1</td>\n",
       "      <td>1.298575</td>\n",
       "      <td>1.338539</td>\n",
       "      <td>1.220724</td>\n",
       "      <td>0.613179</td>\n",
       "      <td>0.729259</td>\n",
       "    </tr>\n",
       "  </tbody>\n",
       "</table>\n",
       "</div>"
      ],
      "text/plain": [
       "   diagnosis  radius_worst  perimeter_worst  area_worst  concave_points_mean  \\\n",
       "0          1      1.886690         2.303601    2.001237             2.109526   \n",
       "1          1      1.805927         1.535126    1.890489            -0.146749   \n",
       "2          1      1.511870         1.347475    1.456285             0.854974   \n",
       "3          1     -0.281464        -0.249939   -0.550021             1.989588   \n",
       "4          1      1.298575         1.338539    1.220724             0.613179   \n",
       "\n",
       "   concave_points_worst  \n",
       "0              2.296076  \n",
       "1              1.087084  \n",
       "2              1.955000  \n",
       "3              2.175786  \n",
       "4              0.729259  "
      ]
     },
     "execution_count": 7,
     "metadata": {},
     "output_type": "execute_result"
    }
   ],
   "source": [
    "\n",
    "scaled_features = feature_scaling(data,'diagnosis')\n",
    "scaled_features.head()"
   ]
  },
  {
   "cell_type": "code",
   "execution_count": 8,
   "metadata": {},
   "outputs": [
    {
     "name": "stdout",
     "output_type": "stream",
     "text": [
      "Optimization terminated successfully.\n",
      "         Current function value: 0.114796\n",
      "         Iterations 10\n"
     ]
    },
    {
     "data": {
      "text/html": [
       "<table class=\"simpletable\">\n",
       "<caption>Logit Regression Results</caption>\n",
       "<tr>\n",
       "  <th>Dep. Variable:</th>       <td>diagnosis</td>    <th>  No. Observations:  </th>   <td>   569</td>  \n",
       "</tr>\n",
       "<tr>\n",
       "  <th>Model:</th>                 <td>Logit</td>      <th>  Df Residuals:      </th>   <td>   564</td>  \n",
       "</tr>\n",
       "<tr>\n",
       "  <th>Method:</th>                 <td>MLE</td>       <th>  Df Model:          </th>   <td>     4</td>  \n",
       "</tr>\n",
       "<tr>\n",
       "  <th>Date:</th>            <td>Wed, 25 Aug 2021</td> <th>  Pseudo R-squ.:     </th>   <td>0.8261</td>  \n",
       "</tr>\n",
       "<tr>\n",
       "  <th>Time:</th>                <td>18:34:48</td>     <th>  Log-Likelihood:    </th>  <td> -65.319</td> \n",
       "</tr>\n",
       "<tr>\n",
       "  <th>converged:</th>             <td>True</td>       <th>  LL-Null:           </th>  <td> -375.72</td> \n",
       "</tr>\n",
       "<tr>\n",
       "  <th>Covariance Type:</th>     <td>nonrobust</td>    <th>  LLR p-value:       </th> <td>4.875e-133</td>\n",
       "</tr>\n",
       "</table>\n",
       "<table class=\"simpletable\">\n",
       "<tr>\n",
       "            <td></td>              <th>coef</th>     <th>std err</th>      <th>z</th>      <th>P>|z|</th>  <th>[0.025</th>    <th>0.975]</th>  \n",
       "</tr>\n",
       "<tr>\n",
       "  <th>radius_worst</th>         <td>   -1.4151</td> <td>    0.480</td> <td>   -2.947</td> <td> 0.003</td> <td>   -2.356</td> <td>   -0.474</td>\n",
       "</tr>\n",
       "<tr>\n",
       "  <th>perimeter_worst</th>      <td>   -0.0837</td> <td>    0.072</td> <td>   -1.168</td> <td> 0.243</td> <td>   -0.224</td> <td>    0.057</td>\n",
       "</tr>\n",
       "<tr>\n",
       "  <th>area_worst</th>           <td>    0.0302</td> <td>    0.004</td> <td>    8.039</td> <td> 0.000</td> <td>    0.023</td> <td>    0.038</td>\n",
       "</tr>\n",
       "<tr>\n",
       "  <th>concave_points_mean</th>  <td>    1.1190</td> <td>    1.707</td> <td>    0.655</td> <td> 0.512</td> <td>   -2.227</td> <td>    4.466</td>\n",
       "</tr>\n",
       "<tr>\n",
       "  <th>concave_points_worst</th> <td>   51.8906</td> <td>   10.152</td> <td>    5.111</td> <td> 0.000</td> <td>   31.993</td> <td>   71.788</td>\n",
       "</tr>\n",
       "</table><br/><br/>Possibly complete quasi-separation: A fraction 0.20 of observations can be<br/>perfectly predicted. This might indicate that there is complete<br/>quasi-separation. In this case some parameters will not be identified."
      ],
      "text/plain": [
       "<class 'statsmodels.iolib.summary.Summary'>\n",
       "\"\"\"\n",
       "                           Logit Regression Results                           \n",
       "==============================================================================\n",
       "Dep. Variable:              diagnosis   No. Observations:                  569\n",
       "Model:                          Logit   Df Residuals:                      564\n",
       "Method:                           MLE   Df Model:                            4\n",
       "Date:                Wed, 25 Aug 2021   Pseudo R-squ.:                  0.8261\n",
       "Time:                        18:34:48   Log-Likelihood:                -65.319\n",
       "converged:                       True   LL-Null:                       -375.72\n",
       "Covariance Type:            nonrobust   LLR p-value:                4.875e-133\n",
       "========================================================================================\n",
       "                           coef    std err          z      P>|z|      [0.025      0.975]\n",
       "----------------------------------------------------------------------------------------\n",
       "radius_worst            -1.4151      0.480     -2.947      0.003      -2.356      -0.474\n",
       "perimeter_worst         -0.0837      0.072     -1.168      0.243      -0.224       0.057\n",
       "area_worst               0.0302      0.004      8.039      0.000       0.023       0.038\n",
       "concave_points_mean      1.1190      1.707      0.655      0.512      -2.227       4.466\n",
       "concave_points_worst    51.8906     10.152      5.111      0.000      31.993      71.788\n",
       "========================================================================================\n",
       "\n",
       "Possibly complete quasi-separation: A fraction 0.20 of observations can be\n",
       "perfectly predicted. This might indicate that there is complete\n",
       "quasi-separation. In this case some parameters will not be identified.\n",
       "\"\"\""
      ]
     },
     "execution_count": 8,
     "metadata": {},
     "output_type": "execute_result"
    }
   ],
   "source": [
    "\n",
    "import statsmodels.api as sm\n",
    "X = data.drop(['diagnosis'],axis=1)\n",
    "y = data['diagnosis']\n",
    "\n",
    "smlog = sm.Logit(y,X).fit()\n",
    "smlog.summary()"
   ]
  },
  {
   "cell_type": "markdown",
   "metadata": {},
   "source": [
    "\n",
    "when the p-value is greater than 0.05, we fail to reject the null hypothesis that the relationship between the patient's diagnosis and the exogenous variable is not significant."
   ]
  },
  {
   "cell_type": "code",
   "execution_count": 9,
   "metadata": {},
   "outputs": [
    {
     "data": {
      "text/plain": [
       "(569, 6)"
      ]
     },
     "execution_count": 9,
     "metadata": {},
     "output_type": "execute_result"
    }
   ],
   "source": [
    "data.shape"
   ]
  },
  {
   "cell_type": "code",
   "execution_count": 11,
   "metadata": {},
   "outputs": [
    {
     "data": {
      "text/plain": [
       "range(1, 6)"
      ]
     },
     "execution_count": 11,
     "metadata": {},
     "output_type": "execute_result"
    }
   ],
   "source": [
    "range(1,6)"
   ]
  },
  {
   "cell_type": "code",
   "execution_count": 12,
   "metadata": {},
   "outputs": [
    {
     "data": {
      "text/plain": [
       "['diagnosis',\n",
       " 'radius_worst',\n",
       " 'perimeter_worst',\n",
       " 'area_worst',\n",
       " 'concave_points_mean',\n",
       " 'concave_points_worst']"
      ]
     },
     "execution_count": 12,
     "metadata": {},
     "output_type": "execute_result"
    }
   ],
   "source": [
    "\n",
    "data.columns.to_list()"
   ]
  },
  {
   "cell_type": "code",
   "execution_count": 14,
   "metadata": {},
   "outputs": [
    {
     "ename": "ModuleNotFoundError",
     "evalue": "No module named 'causalgraphicalmodels'",
     "output_type": "error",
     "traceback": [
      "\u001b[1;31m---------------------------------------------------------------------------\u001b[0m",
      "\u001b[1;31mModuleNotFoundError\u001b[0m                       Traceback (most recent call last)",
      "\u001b[1;32m<ipython-input-14-ab1b3b5fc427>\u001b[0m in \u001b[0;36m<module>\u001b[1;34m\u001b[0m\n\u001b[1;32m----> 1\u001b[1;33m \u001b[1;32mimport\u001b[0m \u001b[0mcausalgraphicalmodels\u001b[0m\u001b[1;33m\u001b[0m\u001b[1;33m\u001b[0m\u001b[0m\n\u001b[0m\u001b[0;32m      2\u001b[0m \u001b[1;31m#area and perimeter functions of radius\u001b[0m\u001b[1;33m\u001b[0m\u001b[1;33m\u001b[0m\u001b[1;33m\u001b[0m\u001b[0m\n\u001b[0;32m      3\u001b[0m \u001b[1;32mfrom\u001b[0m \u001b[0mcausalgraphicalmodels\u001b[0m \u001b[1;32mimport\u001b[0m \u001b[0mCausalGraphicalModel\u001b[0m\u001b[1;33m\u001b[0m\u001b[1;33m\u001b[0m\u001b[0m\n\u001b[0;32m      4\u001b[0m causal = CausalGraphicalModel(\n\u001b[0;32m      5\u001b[0m     \u001b[0mnodes\u001b[0m\u001b[1;33m=\u001b[0m\u001b[1;33m[\u001b[0m\u001b[1;34m'radius_worst'\u001b[0m\u001b[1;33m,\u001b[0m\u001b[1;34m'perimeter_worst'\u001b[0m\u001b[1;33m,\u001b[0m\u001b[1;34m'area_worst'\u001b[0m\u001b[1;33m,\u001b[0m\u001b[1;34m'concave_points_mean'\u001b[0m\u001b[1;33m,\u001b[0m\u001b[1;34m'diagnosis'\u001b[0m\u001b[1;33m,\u001b[0m\u001b[1;34m'concave_points_worst'\u001b[0m\u001b[1;33m]\u001b[0m\u001b[1;33m,\u001b[0m\u001b[1;33m\u001b[0m\u001b[1;33m\u001b[0m\u001b[0m\n",
      "\u001b[1;31mModuleNotFoundError\u001b[0m: No module named 'causalgraphicalmodels'"
     ]
    }
   ],
   "source": [
    "\n",
    "#area and perimeter functions of radius\n",
    "from causalgraphicalmodels import CausalGraphicalModel\n",
    "causal = CausalGraphicalModel(\n",
    "    nodes=['radius_worst','perimeter_worst','area_worst','concave_points_mean','diagnosis','concave_points_worst'],\n",
    "    edges=[\n",
    "        (\"radius_worst\", \"perimeter_worst\"), \n",
    "        (\"radius_worst\", \"area_worst\"),\n",
    "        (\"diagnosis\", \"area_worst\"),\n",
    "        (\"concave_points_worst\", \"area_worst\"),    \n",
    "        (\"concave_points_mean\", \"diagnosis\")\n",
    "    ]\n",
    ")\n",
    "# draw return a graphviz `dot` object, which jupyter can render\n",
    "causal.draw()"
   ]
  },
  {
   "cell_type": "code",
   "execution_count": null,
   "metadata": {},
   "outputs": [],
   "source": []
  }
 ],
 "metadata": {
  "kernelspec": {
   "display_name": "Python 3",
   "language": "python",
   "name": "python3"
  },
  "language_info": {
   "codemirror_mode": {
    "name": "ipython",
    "version": 3
   },
   "file_extension": ".py",
   "mimetype": "text/x-python",
   "name": "python",
   "nbconvert_exporter": "python",
   "pygments_lexer": "ipython3",
   "version": "3.8.5"
  }
 },
 "nbformat": 4,
 "nbformat_minor": 4
}
